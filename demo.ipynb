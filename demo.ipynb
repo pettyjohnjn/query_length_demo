{
 "cells": [
  {
   "cell_type": "code",
   "execution_count": 8,
   "metadata": {},
   "outputs": [],
   "source": [
    "import torch\n",
    "from transformers import AutoModelForCausalLM, AutoTokenizer"
   ]
  },
  {
   "cell_type": "code",
   "execution_count": 9,
   "metadata": {},
   "outputs": [],
   "source": [
    "device = \"cpu\"\n",
    "model_name = \"gpt2\"\n",
    "\n",
    "tokenizer = AutoTokenizer.from_pretrained(model_name)\n",
    "tokenizer.pad_token = tokenizer.eos_token\n",
    "model = AutoModelForCausalLM.from_pretrained(model_name).to(device)"
   ]
  },
  {
   "cell_type": "code",
   "execution_count": 10,
   "metadata": {},
   "outputs": [
    {
     "name": "stdout",
     "output_type": "stream",
     "text": [
      "Number of tokens: 10.\n"
     ]
    }
   ],
   "source": [
    "prompt = \"The quick brown fox jumped over the lazy dog.\"\n",
    "inputs = tokenizer(\n",
    "    prompt,\n",
    "    truncation=True,\n",
    "    padding=True,\n",
    "    return_tensors=\"pt\"\n",
    ")\n",
    "\n",
    "print(f\"Number of tokens: {len(inputs[0])}.\")\n",
    "\n",
    "layer_num = 7"
   ]
  },
  {
   "cell_type": "code",
   "execution_count": 11,
   "metadata": {},
   "outputs": [
    {
     "name": "stdout",
     "output_type": "stream",
     "text": [
      "Attention Layer 0 Shape: torch.Size([1, 12, 10, 64])\n"
     ]
    }
   ],
   "source": [
    "with torch.no_grad():\n",
    "    outputs = model(**inputs)\n",
    "    cache = model.transformer.h[layer_num].attn.head_out"
   ]
  },
  {
   "cell_type": "code",
   "execution_count": 12,
   "metadata": {},
   "outputs": [
    {
     "name": "stdout",
     "output_type": "stream",
     "text": [
      "torch.Size([1, 10, 12, 768])\n"
     ]
    }
   ],
   "source": [
    "print(cache.shape)"
   ]
  },
  {
   "cell_type": "code",
   "execution_count": 22,
   "metadata": {},
   "outputs": [
    {
     "name": "stderr",
     "output_type": "stream",
     "text": [
      "Both `max_new_tokens` (=10) and `max_length`(=50) seem to have been set. `max_new_tokens` will take precedence. Please refer to the documentation for more information. (https://huggingface.co/docs/transformers/main/en/main_classes/text_generation)\n"
     ]
    },
    {
     "name": "stdout",
     "output_type": "stream",
     "text": [
      "Attention Layer 0 Shape: torch.Size([1, 12, 10, 64])\n",
      "Attention Layer 0 Shape: torch.Size([1, 12, 1, 64])\n",
      "Attention Layer 0 Shape: torch.Size([1, 12, 1, 64])\n",
      "Attention Layer 0 Shape: torch.Size([1, 12, 1, 64])\n",
      "Attention Layer 0 Shape: torch.Size([1, 12, 1, 64])\n",
      "Attention Layer 0 Shape: torch.Size([1, 12, 1, 64])\n",
      "Attention Layer 0 Shape: torch.Size([1, 12, 1, 64])\n",
      "Attention Layer 0 Shape: torch.Size([1, 12, 1, 64])\n",
      "Attention Layer 0 Shape: torch.Size([1, 12, 1, 64])\n",
      "Attention Layer 0 Shape: torch.Size([1, 12, 1, 64])\n"
     ]
    }
   ],
   "source": [
    "inputs = tokenizer(prompt, return_tensors=\"pt\")\n",
    "\n",
    "outputs = model.generate(\n",
    "    inputs[\"input_ids\"],\n",
    "    max_length = 50,\n",
    "    max_new_tokens = 10,\n",
    "    num_return_sequences=1,\n",
    "    pad_token_id=tokenizer.eos_token_id,\n",
    "    )"
   ]
  }
 ],
 "metadata": {
  "kernelspec": {
   "display_name": "demo",
   "language": "python",
   "name": "python3"
  },
  "language_info": {
   "codemirror_mode": {
    "name": "ipython",
    "version": 3
   },
   "file_extension": ".py",
   "mimetype": "text/x-python",
   "name": "python",
   "nbconvert_exporter": "python",
   "pygments_lexer": "ipython3",
   "version": "3.10.15"
  }
 },
 "nbformat": 4,
 "nbformat_minor": 2
}
